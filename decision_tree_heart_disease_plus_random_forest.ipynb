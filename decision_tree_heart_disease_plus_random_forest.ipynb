{
  "cells": [
    {
      "cell_type": "markdown",
      "metadata": {
        "id": "view-in-github",
        "colab_type": "text"
      },
      "source": [
        "<a href=\"https://colab.research.google.com/github/IchchhaRangoliya/Data-Science-Training/blob/main/decision_tree_heart_disease_plus_random_forest.ipynb\" target=\"_parent\"><img src=\"https://colab.research.google.com/assets/colab-badge.svg\" alt=\"Open In Colab\"/></a>"
      ]
    },
    {
      "cell_type": "code",
      "execution_count": null,
      "id": "164c2314",
      "metadata": {
        "id": "164c2314"
      },
      "outputs": [],
      "source": [
        "import pandas as pd\n",
        "import numpy as np\n",
        "import matplotlib.pyplot as plt"
      ]
    },
    {
      "cell_type": "code",
      "execution_count": null,
      "id": "aa0dfd1d",
      "metadata": {
        "id": "aa0dfd1d",
        "outputId": "e2b1a264-91cd-47ce-e142-7f3901b8348f"
      },
      "outputs": [
        {
          "data": {
            "text/html": [
              "<div>\n",
              "<style scoped>\n",
              "    .dataframe tbody tr th:only-of-type {\n",
              "        vertical-align: middle;\n",
              "    }\n",
              "\n",
              "    .dataframe tbody tr th {\n",
              "        vertical-align: top;\n",
              "    }\n",
              "\n",
              "    .dataframe thead th {\n",
              "        text-align: right;\n",
              "    }\n",
              "</style>\n",
              "<table border=\"1\" class=\"dataframe\">\n",
              "  <thead>\n",
              "    <tr style=\"text-align: right;\">\n",
              "      <th></th>\n",
              "      <th>male</th>\n",
              "      <th>age</th>\n",
              "      <th>education</th>\n",
              "      <th>currentSmoker</th>\n",
              "      <th>cigsPerDay</th>\n",
              "      <th>BPMeds</th>\n",
              "      <th>prevalentStroke</th>\n",
              "      <th>prevalentHyp</th>\n",
              "      <th>diabetes</th>\n",
              "      <th>totChol</th>\n",
              "      <th>sysBP</th>\n",
              "      <th>diaBP</th>\n",
              "      <th>BMI</th>\n",
              "      <th>heartRate</th>\n",
              "      <th>glucose</th>\n",
              "      <th>CVD</th>\n",
              "    </tr>\n",
              "  </thead>\n",
              "  <tbody>\n",
              "    <tr>\n",
              "      <th>0</th>\n",
              "      <td>1</td>\n",
              "      <td>39</td>\n",
              "      <td>4.0</td>\n",
              "      <td>0</td>\n",
              "      <td>0.0</td>\n",
              "      <td>0.0</td>\n",
              "      <td>0</td>\n",
              "      <td>0</td>\n",
              "      <td>0</td>\n",
              "      <td>195.0</td>\n",
              "      <td>106.0</td>\n",
              "      <td>70.0</td>\n",
              "      <td>26.97</td>\n",
              "      <td>80.0</td>\n",
              "      <td>77.0</td>\n",
              "      <td>0</td>\n",
              "    </tr>\n",
              "    <tr>\n",
              "      <th>1</th>\n",
              "      <td>0</td>\n",
              "      <td>46</td>\n",
              "      <td>2.0</td>\n",
              "      <td>0</td>\n",
              "      <td>0.0</td>\n",
              "      <td>0.0</td>\n",
              "      <td>0</td>\n",
              "      <td>0</td>\n",
              "      <td>0</td>\n",
              "      <td>250.0</td>\n",
              "      <td>121.0</td>\n",
              "      <td>81.0</td>\n",
              "      <td>28.73</td>\n",
              "      <td>95.0</td>\n",
              "      <td>76.0</td>\n",
              "      <td>0</td>\n",
              "    </tr>\n",
              "    <tr>\n",
              "      <th>2</th>\n",
              "      <td>1</td>\n",
              "      <td>48</td>\n",
              "      <td>1.0</td>\n",
              "      <td>1</td>\n",
              "      <td>20.0</td>\n",
              "      <td>0.0</td>\n",
              "      <td>0</td>\n",
              "      <td>0</td>\n",
              "      <td>0</td>\n",
              "      <td>245.0</td>\n",
              "      <td>127.5</td>\n",
              "      <td>80.0</td>\n",
              "      <td>25.34</td>\n",
              "      <td>75.0</td>\n",
              "      <td>70.0</td>\n",
              "      <td>0</td>\n",
              "    </tr>\n",
              "    <tr>\n",
              "      <th>3</th>\n",
              "      <td>0</td>\n",
              "      <td>61</td>\n",
              "      <td>3.0</td>\n",
              "      <td>1</td>\n",
              "      <td>30.0</td>\n",
              "      <td>0.0</td>\n",
              "      <td>0</td>\n",
              "      <td>1</td>\n",
              "      <td>0</td>\n",
              "      <td>225.0</td>\n",
              "      <td>150.0</td>\n",
              "      <td>95.0</td>\n",
              "      <td>28.58</td>\n",
              "      <td>65.0</td>\n",
              "      <td>103.0</td>\n",
              "      <td>1</td>\n",
              "    </tr>\n",
              "    <tr>\n",
              "      <th>4</th>\n",
              "      <td>0</td>\n",
              "      <td>46</td>\n",
              "      <td>3.0</td>\n",
              "      <td>1</td>\n",
              "      <td>23.0</td>\n",
              "      <td>0.0</td>\n",
              "      <td>0</td>\n",
              "      <td>0</td>\n",
              "      <td>0</td>\n",
              "      <td>285.0</td>\n",
              "      <td>130.0</td>\n",
              "      <td>84.0</td>\n",
              "      <td>23.10</td>\n",
              "      <td>85.0</td>\n",
              "      <td>85.0</td>\n",
              "      <td>0</td>\n",
              "    </tr>\n",
              "  </tbody>\n",
              "</table>\n",
              "</div>"
            ],
            "text/plain": [
              "   male  age  education  currentSmoker  cigsPerDay  BPMeds  prevalentStroke  \\\n",
              "0     1   39        4.0              0         0.0     0.0                0   \n",
              "1     0   46        2.0              0         0.0     0.0                0   \n",
              "2     1   48        1.0              1        20.0     0.0                0   \n",
              "3     0   61        3.0              1        30.0     0.0                0   \n",
              "4     0   46        3.0              1        23.0     0.0                0   \n",
              "\n",
              "   prevalentHyp  diabetes  totChol  sysBP  diaBP    BMI  heartRate  glucose  \\\n",
              "0             0         0    195.0  106.0   70.0  26.97       80.0     77.0   \n",
              "1             0         0    250.0  121.0   81.0  28.73       95.0     76.0   \n",
              "2             0         0    245.0  127.5   80.0  25.34       75.0     70.0   \n",
              "3             1         0    225.0  150.0   95.0  28.58       65.0    103.0   \n",
              "4             0         0    285.0  130.0   84.0  23.10       85.0     85.0   \n",
              "\n",
              "   CVD  \n",
              "0    0  \n",
              "1    0  \n",
              "2    0  \n",
              "3    1  \n",
              "4    0  "
            ]
          },
          "execution_count": 2,
          "metadata": {},
          "output_type": "execute_result"
        }
      ],
      "source": [
        "df_heart_disease = pd.read_csv('Heart_disease.csv')\n",
        "df_heart_disease.head()"
      ]
    },
    {
      "cell_type": "code",
      "execution_count": null,
      "id": "5254a909",
      "metadata": {
        "id": "5254a909"
      },
      "outputs": [],
      "source": [
        "df_heart_disease[['male','BPMeds','prevalentStroke','prevalentHyp','currentSmoker',\"education\",'diabetes']] = df_heart_disease[['male','BPMeds','prevalentStroke','prevalentHyp','currentSmoker',\"education\",'diabetes']].astype(object)"
      ]
    },
    {
      "cell_type": "code",
      "execution_count": null,
      "id": "f4b7bbb1",
      "metadata": {
        "id": "f4b7bbb1",
        "outputId": "688f4f01-d27c-4472-ba43-24b376c0e65e"
      },
      "outputs": [
        {
          "data": {
            "text/plain": [
              "male                object\n",
              "age                  int64\n",
              "education           object\n",
              "currentSmoker       object\n",
              "cigsPerDay         float64\n",
              "BPMeds              object\n",
              "prevalentStroke     object\n",
              "prevalentHyp        object\n",
              "diabetes            object\n",
              "totChol            float64\n",
              "sysBP              float64\n",
              "diaBP              float64\n",
              "BMI                float64\n",
              "heartRate          float64\n",
              "glucose            float64\n",
              "CVD                  int64\n",
              "dtype: object"
            ]
          },
          "execution_count": 4,
          "metadata": {},
          "output_type": "execute_result"
        }
      ],
      "source": [
        "df_heart_disease.dtypes"
      ]
    },
    {
      "cell_type": "code",
      "execution_count": null,
      "id": "5c956a5c",
      "metadata": {
        "id": "5c956a5c",
        "outputId": "af7406a5-dcc9-435f-d9a5-7a74ce33c829"
      },
      "outputs": [
        {
          "data": {
            "text/plain": [
              "male                 0\n",
              "age                  0\n",
              "education          105\n",
              "currentSmoker        0\n",
              "cigsPerDay          29\n",
              "BPMeds              53\n",
              "prevalentStroke      0\n",
              "prevalentHyp         0\n",
              "diabetes             0\n",
              "totChol             50\n",
              "sysBP                0\n",
              "diaBP                0\n",
              "BMI                 19\n",
              "heartRate            1\n",
              "glucose            388\n",
              "CVD                  0\n",
              "dtype: int64"
            ]
          },
          "execution_count": 5,
          "metadata": {},
          "output_type": "execute_result"
        }
      ],
      "source": [
        "df_heart_disease.isnull().sum()"
      ]
    },
    {
      "cell_type": "code",
      "execution_count": null,
      "id": "a4001afc",
      "metadata": {
        "id": "a4001afc"
      },
      "outputs": [],
      "source": [
        "df_heart_disease.dropna(inplace = True)"
      ]
    },
    {
      "cell_type": "code",
      "execution_count": null,
      "id": "94fc2201",
      "metadata": {
        "id": "94fc2201",
        "outputId": "92863b9a-f489-4e86-a0c4-fdb5b103a98d"
      },
      "outputs": [
        {
          "data": {
            "text/html": [
              "<div>\n",
              "<style scoped>\n",
              "    .dataframe tbody tr th:only-of-type {\n",
              "        vertical-align: middle;\n",
              "    }\n",
              "\n",
              "    .dataframe tbody tr th {\n",
              "        vertical-align: top;\n",
              "    }\n",
              "\n",
              "    .dataframe thead th {\n",
              "        text-align: right;\n",
              "    }\n",
              "</style>\n",
              "<table border=\"1\" class=\"dataframe\">\n",
              "  <thead>\n",
              "    <tr style=\"text-align: right;\">\n",
              "      <th></th>\n",
              "      <th>age</th>\n",
              "      <th>cigsPerDay</th>\n",
              "      <th>totChol</th>\n",
              "      <th>sysBP</th>\n",
              "      <th>diaBP</th>\n",
              "      <th>BMI</th>\n",
              "      <th>heartRate</th>\n",
              "      <th>glucose</th>\n",
              "      <th>CVD</th>\n",
              "    </tr>\n",
              "  </thead>\n",
              "  <tbody>\n",
              "    <tr>\n",
              "      <th>0</th>\n",
              "      <td>39</td>\n",
              "      <td>0.0</td>\n",
              "      <td>195.0</td>\n",
              "      <td>106.0</td>\n",
              "      <td>70.0</td>\n",
              "      <td>26.97</td>\n",
              "      <td>80.0</td>\n",
              "      <td>77.0</td>\n",
              "      <td>0</td>\n",
              "    </tr>\n",
              "    <tr>\n",
              "      <th>1</th>\n",
              "      <td>46</td>\n",
              "      <td>0.0</td>\n",
              "      <td>250.0</td>\n",
              "      <td>121.0</td>\n",
              "      <td>81.0</td>\n",
              "      <td>28.73</td>\n",
              "      <td>95.0</td>\n",
              "      <td>76.0</td>\n",
              "      <td>0</td>\n",
              "    </tr>\n",
              "    <tr>\n",
              "      <th>2</th>\n",
              "      <td>48</td>\n",
              "      <td>20.0</td>\n",
              "      <td>245.0</td>\n",
              "      <td>127.5</td>\n",
              "      <td>80.0</td>\n",
              "      <td>25.34</td>\n",
              "      <td>75.0</td>\n",
              "      <td>70.0</td>\n",
              "      <td>0</td>\n",
              "    </tr>\n",
              "    <tr>\n",
              "      <th>3</th>\n",
              "      <td>61</td>\n",
              "      <td>30.0</td>\n",
              "      <td>225.0</td>\n",
              "      <td>150.0</td>\n",
              "      <td>95.0</td>\n",
              "      <td>28.58</td>\n",
              "      <td>65.0</td>\n",
              "      <td>103.0</td>\n",
              "      <td>1</td>\n",
              "    </tr>\n",
              "    <tr>\n",
              "      <th>4</th>\n",
              "      <td>46</td>\n",
              "      <td>23.0</td>\n",
              "      <td>285.0</td>\n",
              "      <td>130.0</td>\n",
              "      <td>84.0</td>\n",
              "      <td>23.10</td>\n",
              "      <td>85.0</td>\n",
              "      <td>85.0</td>\n",
              "      <td>0</td>\n",
              "    </tr>\n",
              "    <tr>\n",
              "      <th>...</th>\n",
              "      <td>...</td>\n",
              "      <td>...</td>\n",
              "      <td>...</td>\n",
              "      <td>...</td>\n",
              "      <td>...</td>\n",
              "      <td>...</td>\n",
              "      <td>...</td>\n",
              "      <td>...</td>\n",
              "      <td>...</td>\n",
              "    </tr>\n",
              "    <tr>\n",
              "      <th>4233</th>\n",
              "      <td>50</td>\n",
              "      <td>1.0</td>\n",
              "      <td>313.0</td>\n",
              "      <td>179.0</td>\n",
              "      <td>92.0</td>\n",
              "      <td>25.97</td>\n",
              "      <td>66.0</td>\n",
              "      <td>86.0</td>\n",
              "      <td>1</td>\n",
              "    </tr>\n",
              "    <tr>\n",
              "      <th>4234</th>\n",
              "      <td>51</td>\n",
              "      <td>43.0</td>\n",
              "      <td>207.0</td>\n",
              "      <td>126.5</td>\n",
              "      <td>80.0</td>\n",
              "      <td>19.71</td>\n",
              "      <td>65.0</td>\n",
              "      <td>68.0</td>\n",
              "      <td>0</td>\n",
              "    </tr>\n",
              "    <tr>\n",
              "      <th>4237</th>\n",
              "      <td>52</td>\n",
              "      <td>0.0</td>\n",
              "      <td>269.0</td>\n",
              "      <td>133.5</td>\n",
              "      <td>83.0</td>\n",
              "      <td>21.47</td>\n",
              "      <td>80.0</td>\n",
              "      <td>107.0</td>\n",
              "      <td>0</td>\n",
              "    </tr>\n",
              "    <tr>\n",
              "      <th>4238</th>\n",
              "      <td>40</td>\n",
              "      <td>0.0</td>\n",
              "      <td>185.0</td>\n",
              "      <td>141.0</td>\n",
              "      <td>98.0</td>\n",
              "      <td>25.60</td>\n",
              "      <td>67.0</td>\n",
              "      <td>72.0</td>\n",
              "      <td>0</td>\n",
              "    </tr>\n",
              "    <tr>\n",
              "      <th>4239</th>\n",
              "      <td>39</td>\n",
              "      <td>30.0</td>\n",
              "      <td>196.0</td>\n",
              "      <td>133.0</td>\n",
              "      <td>86.0</td>\n",
              "      <td>20.91</td>\n",
              "      <td>85.0</td>\n",
              "      <td>80.0</td>\n",
              "      <td>0</td>\n",
              "    </tr>\n",
              "  </tbody>\n",
              "</table>\n",
              "<p>3658 rows × 9 columns</p>\n",
              "</div>"
            ],
            "text/plain": [
              "      age  cigsPerDay  totChol  sysBP  diaBP    BMI  heartRate  glucose  CVD\n",
              "0      39         0.0    195.0  106.0   70.0  26.97       80.0     77.0    0\n",
              "1      46         0.0    250.0  121.0   81.0  28.73       95.0     76.0    0\n",
              "2      48        20.0    245.0  127.5   80.0  25.34       75.0     70.0    0\n",
              "3      61        30.0    225.0  150.0   95.0  28.58       65.0    103.0    1\n",
              "4      46        23.0    285.0  130.0   84.0  23.10       85.0     85.0    0\n",
              "...   ...         ...      ...    ...    ...    ...        ...      ...  ...\n",
              "4233   50         1.0    313.0  179.0   92.0  25.97       66.0     86.0    1\n",
              "4234   51        43.0    207.0  126.5   80.0  19.71       65.0     68.0    0\n",
              "4237   52         0.0    269.0  133.5   83.0  21.47       80.0    107.0    0\n",
              "4238   40         0.0    185.0  141.0   98.0  25.60       67.0     72.0    0\n",
              "4239   39        30.0    196.0  133.0   86.0  20.91       85.0     80.0    0\n",
              "\n",
              "[3658 rows x 9 columns]"
            ]
          },
          "execution_count": 7,
          "metadata": {},
          "output_type": "execute_result"
        }
      ],
      "source": [
        "df_heart_disease_num = df_heart_disease.select_dtypes(include = 'number')\n",
        "df_heart_disease_num"
      ]
    },
    {
      "cell_type": "code",
      "execution_count": null,
      "id": "9336aab8",
      "metadata": {
        "id": "9336aab8",
        "outputId": "01f136c7-a75d-4a7f-e168-5a4cd4102f5d"
      },
      "outputs": [
        {
          "data": {
            "text/html": [
              "<div>\n",
              "<style scoped>\n",
              "    .dataframe tbody tr th:only-of-type {\n",
              "        vertical-align: middle;\n",
              "    }\n",
              "\n",
              "    .dataframe tbody tr th {\n",
              "        vertical-align: top;\n",
              "    }\n",
              "\n",
              "    .dataframe thead th {\n",
              "        text-align: right;\n",
              "    }\n",
              "</style>\n",
              "<table border=\"1\" class=\"dataframe\">\n",
              "  <thead>\n",
              "    <tr style=\"text-align: right;\">\n",
              "      <th></th>\n",
              "      <th>male</th>\n",
              "      <th>education</th>\n",
              "      <th>currentSmoker</th>\n",
              "      <th>BPMeds</th>\n",
              "      <th>prevalentStroke</th>\n",
              "      <th>prevalentHyp</th>\n",
              "      <th>diabetes</th>\n",
              "    </tr>\n",
              "  </thead>\n",
              "  <tbody>\n",
              "    <tr>\n",
              "      <th>0</th>\n",
              "      <td>1</td>\n",
              "      <td>4.0</td>\n",
              "      <td>0</td>\n",
              "      <td>0.0</td>\n",
              "      <td>0</td>\n",
              "      <td>0</td>\n",
              "      <td>0</td>\n",
              "    </tr>\n",
              "    <tr>\n",
              "      <th>1</th>\n",
              "      <td>0</td>\n",
              "      <td>2.0</td>\n",
              "      <td>0</td>\n",
              "      <td>0.0</td>\n",
              "      <td>0</td>\n",
              "      <td>0</td>\n",
              "      <td>0</td>\n",
              "    </tr>\n",
              "    <tr>\n",
              "      <th>2</th>\n",
              "      <td>1</td>\n",
              "      <td>1.0</td>\n",
              "      <td>1</td>\n",
              "      <td>0.0</td>\n",
              "      <td>0</td>\n",
              "      <td>0</td>\n",
              "      <td>0</td>\n",
              "    </tr>\n",
              "    <tr>\n",
              "      <th>3</th>\n",
              "      <td>0</td>\n",
              "      <td>3.0</td>\n",
              "      <td>1</td>\n",
              "      <td>0.0</td>\n",
              "      <td>0</td>\n",
              "      <td>1</td>\n",
              "      <td>0</td>\n",
              "    </tr>\n",
              "    <tr>\n",
              "      <th>4</th>\n",
              "      <td>0</td>\n",
              "      <td>3.0</td>\n",
              "      <td>1</td>\n",
              "      <td>0.0</td>\n",
              "      <td>0</td>\n",
              "      <td>0</td>\n",
              "      <td>0</td>\n",
              "    </tr>\n",
              "    <tr>\n",
              "      <th>...</th>\n",
              "      <td>...</td>\n",
              "      <td>...</td>\n",
              "      <td>...</td>\n",
              "      <td>...</td>\n",
              "      <td>...</td>\n",
              "      <td>...</td>\n",
              "      <td>...</td>\n",
              "    </tr>\n",
              "    <tr>\n",
              "      <th>4233</th>\n",
              "      <td>1</td>\n",
              "      <td>1.0</td>\n",
              "      <td>1</td>\n",
              "      <td>0.0</td>\n",
              "      <td>0</td>\n",
              "      <td>1</td>\n",
              "      <td>0</td>\n",
              "    </tr>\n",
              "    <tr>\n",
              "      <th>4234</th>\n",
              "      <td>1</td>\n",
              "      <td>3.0</td>\n",
              "      <td>1</td>\n",
              "      <td>0.0</td>\n",
              "      <td>0</td>\n",
              "      <td>0</td>\n",
              "      <td>0</td>\n",
              "    </tr>\n",
              "    <tr>\n",
              "      <th>4237</th>\n",
              "      <td>0</td>\n",
              "      <td>2.0</td>\n",
              "      <td>0</td>\n",
              "      <td>0.0</td>\n",
              "      <td>0</td>\n",
              "      <td>0</td>\n",
              "      <td>0</td>\n",
              "    </tr>\n",
              "    <tr>\n",
              "      <th>4238</th>\n",
              "      <td>1</td>\n",
              "      <td>3.0</td>\n",
              "      <td>0</td>\n",
              "      <td>0.0</td>\n",
              "      <td>0</td>\n",
              "      <td>1</td>\n",
              "      <td>0</td>\n",
              "    </tr>\n",
              "    <tr>\n",
              "      <th>4239</th>\n",
              "      <td>0</td>\n",
              "      <td>3.0</td>\n",
              "      <td>1</td>\n",
              "      <td>0.0</td>\n",
              "      <td>0</td>\n",
              "      <td>0</td>\n",
              "      <td>0</td>\n",
              "    </tr>\n",
              "  </tbody>\n",
              "</table>\n",
              "<p>3658 rows × 7 columns</p>\n",
              "</div>"
            ],
            "text/plain": [
              "     male education currentSmoker BPMeds prevalentStroke prevalentHyp diabetes\n",
              "0       1       4.0             0    0.0               0            0        0\n",
              "1       0       2.0             0    0.0               0            0        0\n",
              "2       1       1.0             1    0.0               0            0        0\n",
              "3       0       3.0             1    0.0               0            1        0\n",
              "4       0       3.0             1    0.0               0            0        0\n",
              "...   ...       ...           ...    ...             ...          ...      ...\n",
              "4233    1       1.0             1    0.0               0            1        0\n",
              "4234    1       3.0             1    0.0               0            0        0\n",
              "4237    0       2.0             0    0.0               0            0        0\n",
              "4238    1       3.0             0    0.0               0            1        0\n",
              "4239    0       3.0             1    0.0               0            0        0\n",
              "\n",
              "[3658 rows x 7 columns]"
            ]
          },
          "execution_count": 8,
          "metadata": {},
          "output_type": "execute_result"
        }
      ],
      "source": [
        "df_heart_disease_cat = df_heart_disease.select_dtypes(include = 'object')\n",
        "df_heart_disease_cat"
      ]
    },
    {
      "cell_type": "code",
      "execution_count": null,
      "id": "97bc34f2",
      "metadata": {
        "id": "97bc34f2",
        "outputId": "5b4fb5c4-835b-48eb-c4dc-3fddb6299fe2"
      },
      "outputs": [
        {
          "name": "stderr",
          "output_type": "stream",
          "text": [
            "C:\\Users\\Dell\\AppData\\Local\\Programs\\Python\\Python310\\lib\\site-packages\\pandas\\core\\algorithms.py:798: FutureWarning: In a future version, the Index constructor will not infer numeric dtypes when passed object-dtype sequences (matching Series behavior)\n",
            "  uniques = Index(uniques)\n"
          ]
        }
      ],
      "source": [
        "df_heart_disease_encode = pd.get_dummies(df_heart_disease_cat)"
      ]
    },
    {
      "cell_type": "code",
      "execution_count": null,
      "id": "23c84a4a",
      "metadata": {
        "id": "23c84a4a",
        "outputId": "bae8d047-2605-48cb-c588-be4d3feb7e78"
      },
      "outputs": [
        {
          "data": {
            "text/plain": [
              "Index(['age', 'cigsPerDay', 'totChol', 'sysBP', 'diaBP', 'BMI', 'heartRate',\n",
              "       'glucose', 'CVD', 'male_0', 'male_1', 'education_1.0', 'education_2.0',\n",
              "       'education_3.0', 'education_4.0', 'currentSmoker_0', 'currentSmoker_1',\n",
              "       'BPMeds_0.0', 'BPMeds_1.0', 'prevalentStroke_0', 'prevalentStroke_1',\n",
              "       'prevalentHyp_0', 'prevalentHyp_1', 'diabetes_0', 'diabetes_1'],\n",
              "      dtype='object')"
            ]
          },
          "execution_count": 10,
          "metadata": {},
          "output_type": "execute_result"
        }
      ],
      "source": [
        "df_heart_disease_concat = pd.concat([df_heart_disease_num,df_heart_disease_encode],axis = 1)\n",
        "df_heart_disease_concat.columns"
      ]
    },
    {
      "cell_type": "code",
      "execution_count": null,
      "id": "97a5ee00",
      "metadata": {
        "id": "97a5ee00"
      },
      "outputs": [],
      "source": [
        "df_target = df_heart_disease_concat['CVD']"
      ]
    },
    {
      "cell_type": "code",
      "execution_count": null,
      "id": "7ec30d94",
      "metadata": {
        "id": "7ec30d94",
        "outputId": "a0567ebe-f4dd-4f4d-adc5-d40bddcd9a66"
      },
      "outputs": [
        {
          "data": {
            "text/html": [
              "<div>\n",
              "<style scoped>\n",
              "    .dataframe tbody tr th:only-of-type {\n",
              "        vertical-align: middle;\n",
              "    }\n",
              "\n",
              "    .dataframe tbody tr th {\n",
              "        vertical-align: top;\n",
              "    }\n",
              "\n",
              "    .dataframe thead th {\n",
              "        text-align: right;\n",
              "    }\n",
              "</style>\n",
              "<table border=\"1\" class=\"dataframe\">\n",
              "  <thead>\n",
              "    <tr style=\"text-align: right;\">\n",
              "      <th></th>\n",
              "      <th>age</th>\n",
              "      <th>cigsPerDay</th>\n",
              "      <th>totChol</th>\n",
              "      <th>sysBP</th>\n",
              "      <th>diaBP</th>\n",
              "      <th>BMI</th>\n",
              "      <th>heartRate</th>\n",
              "      <th>glucose</th>\n",
              "      <th>male_0</th>\n",
              "      <th>male_1</th>\n",
              "      <th>...</th>\n",
              "      <th>currentSmoker_0</th>\n",
              "      <th>currentSmoker_1</th>\n",
              "      <th>BPMeds_0.0</th>\n",
              "      <th>BPMeds_1.0</th>\n",
              "      <th>prevalentStroke_0</th>\n",
              "      <th>prevalentStroke_1</th>\n",
              "      <th>prevalentHyp_0</th>\n",
              "      <th>prevalentHyp_1</th>\n",
              "      <th>diabetes_0</th>\n",
              "      <th>diabetes_1</th>\n",
              "    </tr>\n",
              "  </thead>\n",
              "  <tbody>\n",
              "    <tr>\n",
              "      <th>0</th>\n",
              "      <td>39</td>\n",
              "      <td>0.0</td>\n",
              "      <td>195.0</td>\n",
              "      <td>106.0</td>\n",
              "      <td>70.0</td>\n",
              "      <td>26.97</td>\n",
              "      <td>80.0</td>\n",
              "      <td>77.0</td>\n",
              "      <td>0</td>\n",
              "      <td>1</td>\n",
              "      <td>...</td>\n",
              "      <td>1</td>\n",
              "      <td>0</td>\n",
              "      <td>1</td>\n",
              "      <td>0</td>\n",
              "      <td>1</td>\n",
              "      <td>0</td>\n",
              "      <td>1</td>\n",
              "      <td>0</td>\n",
              "      <td>1</td>\n",
              "      <td>0</td>\n",
              "    </tr>\n",
              "    <tr>\n",
              "      <th>1</th>\n",
              "      <td>46</td>\n",
              "      <td>0.0</td>\n",
              "      <td>250.0</td>\n",
              "      <td>121.0</td>\n",
              "      <td>81.0</td>\n",
              "      <td>28.73</td>\n",
              "      <td>95.0</td>\n",
              "      <td>76.0</td>\n",
              "      <td>1</td>\n",
              "      <td>0</td>\n",
              "      <td>...</td>\n",
              "      <td>1</td>\n",
              "      <td>0</td>\n",
              "      <td>1</td>\n",
              "      <td>0</td>\n",
              "      <td>1</td>\n",
              "      <td>0</td>\n",
              "      <td>1</td>\n",
              "      <td>0</td>\n",
              "      <td>1</td>\n",
              "      <td>0</td>\n",
              "    </tr>\n",
              "    <tr>\n",
              "      <th>2</th>\n",
              "      <td>48</td>\n",
              "      <td>20.0</td>\n",
              "      <td>245.0</td>\n",
              "      <td>127.5</td>\n",
              "      <td>80.0</td>\n",
              "      <td>25.34</td>\n",
              "      <td>75.0</td>\n",
              "      <td>70.0</td>\n",
              "      <td>0</td>\n",
              "      <td>1</td>\n",
              "      <td>...</td>\n",
              "      <td>0</td>\n",
              "      <td>1</td>\n",
              "      <td>1</td>\n",
              "      <td>0</td>\n",
              "      <td>1</td>\n",
              "      <td>0</td>\n",
              "      <td>1</td>\n",
              "      <td>0</td>\n",
              "      <td>1</td>\n",
              "      <td>0</td>\n",
              "    </tr>\n",
              "    <tr>\n",
              "      <th>3</th>\n",
              "      <td>61</td>\n",
              "      <td>30.0</td>\n",
              "      <td>225.0</td>\n",
              "      <td>150.0</td>\n",
              "      <td>95.0</td>\n",
              "      <td>28.58</td>\n",
              "      <td>65.0</td>\n",
              "      <td>103.0</td>\n",
              "      <td>1</td>\n",
              "      <td>0</td>\n",
              "      <td>...</td>\n",
              "      <td>0</td>\n",
              "      <td>1</td>\n",
              "      <td>1</td>\n",
              "      <td>0</td>\n",
              "      <td>1</td>\n",
              "      <td>0</td>\n",
              "      <td>0</td>\n",
              "      <td>1</td>\n",
              "      <td>1</td>\n",
              "      <td>0</td>\n",
              "    </tr>\n",
              "    <tr>\n",
              "      <th>4</th>\n",
              "      <td>46</td>\n",
              "      <td>23.0</td>\n",
              "      <td>285.0</td>\n",
              "      <td>130.0</td>\n",
              "      <td>84.0</td>\n",
              "      <td>23.10</td>\n",
              "      <td>85.0</td>\n",
              "      <td>85.0</td>\n",
              "      <td>1</td>\n",
              "      <td>0</td>\n",
              "      <td>...</td>\n",
              "      <td>0</td>\n",
              "      <td>1</td>\n",
              "      <td>1</td>\n",
              "      <td>0</td>\n",
              "      <td>1</td>\n",
              "      <td>0</td>\n",
              "      <td>1</td>\n",
              "      <td>0</td>\n",
              "      <td>1</td>\n",
              "      <td>0</td>\n",
              "    </tr>\n",
              "    <tr>\n",
              "      <th>...</th>\n",
              "      <td>...</td>\n",
              "      <td>...</td>\n",
              "      <td>...</td>\n",
              "      <td>...</td>\n",
              "      <td>...</td>\n",
              "      <td>...</td>\n",
              "      <td>...</td>\n",
              "      <td>...</td>\n",
              "      <td>...</td>\n",
              "      <td>...</td>\n",
              "      <td>...</td>\n",
              "      <td>...</td>\n",
              "      <td>...</td>\n",
              "      <td>...</td>\n",
              "      <td>...</td>\n",
              "      <td>...</td>\n",
              "      <td>...</td>\n",
              "      <td>...</td>\n",
              "      <td>...</td>\n",
              "      <td>...</td>\n",
              "      <td>...</td>\n",
              "    </tr>\n",
              "    <tr>\n",
              "      <th>4233</th>\n",
              "      <td>50</td>\n",
              "      <td>1.0</td>\n",
              "      <td>313.0</td>\n",
              "      <td>179.0</td>\n",
              "      <td>92.0</td>\n",
              "      <td>25.97</td>\n",
              "      <td>66.0</td>\n",
              "      <td>86.0</td>\n",
              "      <td>0</td>\n",
              "      <td>1</td>\n",
              "      <td>...</td>\n",
              "      <td>0</td>\n",
              "      <td>1</td>\n",
              "      <td>1</td>\n",
              "      <td>0</td>\n",
              "      <td>1</td>\n",
              "      <td>0</td>\n",
              "      <td>0</td>\n",
              "      <td>1</td>\n",
              "      <td>1</td>\n",
              "      <td>0</td>\n",
              "    </tr>\n",
              "    <tr>\n",
              "      <th>4234</th>\n",
              "      <td>51</td>\n",
              "      <td>43.0</td>\n",
              "      <td>207.0</td>\n",
              "      <td>126.5</td>\n",
              "      <td>80.0</td>\n",
              "      <td>19.71</td>\n",
              "      <td>65.0</td>\n",
              "      <td>68.0</td>\n",
              "      <td>0</td>\n",
              "      <td>1</td>\n",
              "      <td>...</td>\n",
              "      <td>0</td>\n",
              "      <td>1</td>\n",
              "      <td>1</td>\n",
              "      <td>0</td>\n",
              "      <td>1</td>\n",
              "      <td>0</td>\n",
              "      <td>1</td>\n",
              "      <td>0</td>\n",
              "      <td>1</td>\n",
              "      <td>0</td>\n",
              "    </tr>\n",
              "    <tr>\n",
              "      <th>4237</th>\n",
              "      <td>52</td>\n",
              "      <td>0.0</td>\n",
              "      <td>269.0</td>\n",
              "      <td>133.5</td>\n",
              "      <td>83.0</td>\n",
              "      <td>21.47</td>\n",
              "      <td>80.0</td>\n",
              "      <td>107.0</td>\n",
              "      <td>1</td>\n",
              "      <td>0</td>\n",
              "      <td>...</td>\n",
              "      <td>1</td>\n",
              "      <td>0</td>\n",
              "      <td>1</td>\n",
              "      <td>0</td>\n",
              "      <td>1</td>\n",
              "      <td>0</td>\n",
              "      <td>1</td>\n",
              "      <td>0</td>\n",
              "      <td>1</td>\n",
              "      <td>0</td>\n",
              "    </tr>\n",
              "    <tr>\n",
              "      <th>4238</th>\n",
              "      <td>40</td>\n",
              "      <td>0.0</td>\n",
              "      <td>185.0</td>\n",
              "      <td>141.0</td>\n",
              "      <td>98.0</td>\n",
              "      <td>25.60</td>\n",
              "      <td>67.0</td>\n",
              "      <td>72.0</td>\n",
              "      <td>0</td>\n",
              "      <td>1</td>\n",
              "      <td>...</td>\n",
              "      <td>1</td>\n",
              "      <td>0</td>\n",
              "      <td>1</td>\n",
              "      <td>0</td>\n",
              "      <td>1</td>\n",
              "      <td>0</td>\n",
              "      <td>0</td>\n",
              "      <td>1</td>\n",
              "      <td>1</td>\n",
              "      <td>0</td>\n",
              "    </tr>\n",
              "    <tr>\n",
              "      <th>4239</th>\n",
              "      <td>39</td>\n",
              "      <td>30.0</td>\n",
              "      <td>196.0</td>\n",
              "      <td>133.0</td>\n",
              "      <td>86.0</td>\n",
              "      <td>20.91</td>\n",
              "      <td>85.0</td>\n",
              "      <td>80.0</td>\n",
              "      <td>1</td>\n",
              "      <td>0</td>\n",
              "      <td>...</td>\n",
              "      <td>0</td>\n",
              "      <td>1</td>\n",
              "      <td>1</td>\n",
              "      <td>0</td>\n",
              "      <td>1</td>\n",
              "      <td>0</td>\n",
              "      <td>1</td>\n",
              "      <td>0</td>\n",
              "      <td>1</td>\n",
              "      <td>0</td>\n",
              "    </tr>\n",
              "  </tbody>\n",
              "</table>\n",
              "<p>3658 rows × 24 columns</p>\n",
              "</div>"
            ],
            "text/plain": [
              "      age  cigsPerDay  totChol  sysBP  diaBP    BMI  heartRate  glucose  \\\n",
              "0      39         0.0    195.0  106.0   70.0  26.97       80.0     77.0   \n",
              "1      46         0.0    250.0  121.0   81.0  28.73       95.0     76.0   \n",
              "2      48        20.0    245.0  127.5   80.0  25.34       75.0     70.0   \n",
              "3      61        30.0    225.0  150.0   95.0  28.58       65.0    103.0   \n",
              "4      46        23.0    285.0  130.0   84.0  23.10       85.0     85.0   \n",
              "...   ...         ...      ...    ...    ...    ...        ...      ...   \n",
              "4233   50         1.0    313.0  179.0   92.0  25.97       66.0     86.0   \n",
              "4234   51        43.0    207.0  126.5   80.0  19.71       65.0     68.0   \n",
              "4237   52         0.0    269.0  133.5   83.0  21.47       80.0    107.0   \n",
              "4238   40         0.0    185.0  141.0   98.0  25.60       67.0     72.0   \n",
              "4239   39        30.0    196.0  133.0   86.0  20.91       85.0     80.0   \n",
              "\n",
              "      male_0  male_1  ...  currentSmoker_0  currentSmoker_1  BPMeds_0.0  \\\n",
              "0          0       1  ...                1                0           1   \n",
              "1          1       0  ...                1                0           1   \n",
              "2          0       1  ...                0                1           1   \n",
              "3          1       0  ...                0                1           1   \n",
              "4          1       0  ...                0                1           1   \n",
              "...      ...     ...  ...              ...              ...         ...   \n",
              "4233       0       1  ...                0                1           1   \n",
              "4234       0       1  ...                0                1           1   \n",
              "4237       1       0  ...                1                0           1   \n",
              "4238       0       1  ...                1                0           1   \n",
              "4239       1       0  ...                0                1           1   \n",
              "\n",
              "      BPMeds_1.0  prevalentStroke_0  prevalentStroke_1  prevalentHyp_0  \\\n",
              "0              0                  1                  0               1   \n",
              "1              0                  1                  0               1   \n",
              "2              0                  1                  0               1   \n",
              "3              0                  1                  0               0   \n",
              "4              0                  1                  0               1   \n",
              "...          ...                ...                ...             ...   \n",
              "4233           0                  1                  0               0   \n",
              "4234           0                  1                  0               1   \n",
              "4237           0                  1                  0               1   \n",
              "4238           0                  1                  0               0   \n",
              "4239           0                  1                  0               1   \n",
              "\n",
              "      prevalentHyp_1  diabetes_0  diabetes_1  \n",
              "0                  0           1           0  \n",
              "1                  0           1           0  \n",
              "2                  0           1           0  \n",
              "3                  1           1           0  \n",
              "4                  0           1           0  \n",
              "...              ...         ...         ...  \n",
              "4233               1           1           0  \n",
              "4234               0           1           0  \n",
              "4237               0           1           0  \n",
              "4238               1           1           0  \n",
              "4239               0           1           0  \n",
              "\n",
              "[3658 rows x 24 columns]"
            ]
          },
          "execution_count": 12,
          "metadata": {},
          "output_type": "execute_result"
        }
      ],
      "source": [
        "df_new = df_heart_disease_concat.drop('CVD',axis = 1)\n",
        "df_new"
      ]
    },
    {
      "cell_type": "code",
      "execution_count": null,
      "id": "10d20199",
      "metadata": {
        "id": "10d20199"
      },
      "outputs": [],
      "source": [
        "from sklearn.model_selection import train_test_split"
      ]
    },
    {
      "cell_type": "code",
      "execution_count": null,
      "id": "2df354a3",
      "metadata": {
        "id": "2df354a3"
      },
      "outputs": [],
      "source": [
        "x_train,x_test,y_train,y_test = train_test_split(df_new,df_target,random_state = 1,test_size = 0.3)"
      ]
    },
    {
      "cell_type": "code",
      "execution_count": null,
      "id": "c5b5e2b5",
      "metadata": {
        "id": "c5b5e2b5"
      },
      "outputs": [],
      "source": [
        "from sklearn.tree import DecisionTreeClassifier"
      ]
    },
    {
      "cell_type": "code",
      "execution_count": null,
      "id": "bd22405e",
      "metadata": {
        "id": "bd22405e",
        "outputId": "47d4de4b-e429-4a94-e5b3-95e563c91d49"
      },
      "outputs": [
        {
          "data": {
            "text/html": [
              "<style>#sk-container-id-1 {color: black;background-color: white;}#sk-container-id-1 pre{padding: 0;}#sk-container-id-1 div.sk-toggleable {background-color: white;}#sk-container-id-1 label.sk-toggleable__label {cursor: pointer;display: block;width: 100%;margin-bottom: 0;padding: 0.3em;box-sizing: border-box;text-align: center;}#sk-container-id-1 label.sk-toggleable__label-arrow:before {content: \"▸\";float: left;margin-right: 0.25em;color: #696969;}#sk-container-id-1 label.sk-toggleable__label-arrow:hover:before {color: black;}#sk-container-id-1 div.sk-estimator:hover label.sk-toggleable__label-arrow:before {color: black;}#sk-container-id-1 div.sk-toggleable__content {max-height: 0;max-width: 0;overflow: hidden;text-align: left;background-color: #f0f8ff;}#sk-container-id-1 div.sk-toggleable__content pre {margin: 0.2em;color: black;border-radius: 0.25em;background-color: #f0f8ff;}#sk-container-id-1 input.sk-toggleable__control:checked~div.sk-toggleable__content {max-height: 200px;max-width: 100%;overflow: auto;}#sk-container-id-1 input.sk-toggleable__control:checked~label.sk-toggleable__label-arrow:before {content: \"▾\";}#sk-container-id-1 div.sk-estimator input.sk-toggleable__control:checked~label.sk-toggleable__label {background-color: #d4ebff;}#sk-container-id-1 div.sk-label input.sk-toggleable__control:checked~label.sk-toggleable__label {background-color: #d4ebff;}#sk-container-id-1 input.sk-hidden--visually {border: 0;clip: rect(1px 1px 1px 1px);clip: rect(1px, 1px, 1px, 1px);height: 1px;margin: -1px;overflow: hidden;padding: 0;position: absolute;width: 1px;}#sk-container-id-1 div.sk-estimator {font-family: monospace;background-color: #f0f8ff;border: 1px dotted black;border-radius: 0.25em;box-sizing: border-box;margin-bottom: 0.5em;}#sk-container-id-1 div.sk-estimator:hover {background-color: #d4ebff;}#sk-container-id-1 div.sk-parallel-item::after {content: \"\";width: 100%;border-bottom: 1px solid gray;flex-grow: 1;}#sk-container-id-1 div.sk-label:hover label.sk-toggleable__label {background-color: #d4ebff;}#sk-container-id-1 div.sk-serial::before {content: \"\";position: absolute;border-left: 1px solid gray;box-sizing: border-box;top: 0;bottom: 0;left: 50%;z-index: 0;}#sk-container-id-1 div.sk-serial {display: flex;flex-direction: column;align-items: center;background-color: white;padding-right: 0.2em;padding-left: 0.2em;position: relative;}#sk-container-id-1 div.sk-item {position: relative;z-index: 1;}#sk-container-id-1 div.sk-parallel {display: flex;align-items: stretch;justify-content: center;background-color: white;position: relative;}#sk-container-id-1 div.sk-item::before, #sk-container-id-1 div.sk-parallel-item::before {content: \"\";position: absolute;border-left: 1px solid gray;box-sizing: border-box;top: 0;bottom: 0;left: 50%;z-index: -1;}#sk-container-id-1 div.sk-parallel-item {display: flex;flex-direction: column;z-index: 1;position: relative;background-color: white;}#sk-container-id-1 div.sk-parallel-item:first-child::after {align-self: flex-end;width: 50%;}#sk-container-id-1 div.sk-parallel-item:last-child::after {align-self: flex-start;width: 50%;}#sk-container-id-1 div.sk-parallel-item:only-child::after {width: 0;}#sk-container-id-1 div.sk-dashed-wrapped {border: 1px dashed gray;margin: 0 0.4em 0.5em 0.4em;box-sizing: border-box;padding-bottom: 0.4em;background-color: white;}#sk-container-id-1 div.sk-label label {font-family: monospace;font-weight: bold;display: inline-block;line-height: 1.2em;}#sk-container-id-1 div.sk-label-container {text-align: center;}#sk-container-id-1 div.sk-container {/* jupyter's `normalize.less` sets `[hidden] { display: none; }` but bootstrap.min.css set `[hidden] { display: none !important; }` so we also need the `!important` here to be able to override the default hidden behavior on the sphinx rendered scikit-learn.org. See: https://github.com/scikit-learn/scikit-learn/issues/21755 */display: inline-block !important;position: relative;}#sk-container-id-1 div.sk-text-repr-fallback {display: none;}</style><div id=\"sk-container-id-1\" class=\"sk-top-container\"><div class=\"sk-text-repr-fallback\"><pre>DecisionTreeClassifier(criterion=&#x27;entropy&#x27;, random_state=10)</pre><b>In a Jupyter environment, please rerun this cell to show the HTML representation or trust the notebook. <br />On GitHub, the HTML representation is unable to render, please try loading this page with nbviewer.org.</b></div><div class=\"sk-container\" hidden><div class=\"sk-item\"><div class=\"sk-estimator sk-toggleable\"><input class=\"sk-toggleable__control sk-hidden--visually\" id=\"sk-estimator-id-1\" type=\"checkbox\" checked><label for=\"sk-estimator-id-1\" class=\"sk-toggleable__label sk-toggleable__label-arrow\">DecisionTreeClassifier</label><div class=\"sk-toggleable__content\"><pre>DecisionTreeClassifier(criterion=&#x27;entropy&#x27;, random_state=10)</pre></div></div></div></div></div>"
            ],
            "text/plain": [
              "DecisionTreeClassifier(criterion='entropy', random_state=10)"
            ]
          },
          "execution_count": 16,
          "metadata": {},
          "output_type": "execute_result"
        }
      ],
      "source": [
        "dtc = DecisionTreeClassifier(criterion = 'entropy',random_state = 10)\n",
        "dtc"
      ]
    },
    {
      "cell_type": "code",
      "execution_count": null,
      "id": "500e3b38",
      "metadata": {
        "id": "500e3b38"
      },
      "outputs": [],
      "source": [
        "dtc_model = dtc.fit(x_train,y_train)"
      ]
    },
    {
      "cell_type": "code",
      "execution_count": null,
      "id": "ce7036db",
      "metadata": {
        "id": "ce7036db",
        "outputId": "904beced-3a1b-403c-f616-d2eba4ee44b1"
      },
      "outputs": [
        {
          "data": {
            "text/plain": [
              "0    2170\n",
              "1     390\n",
              "dtype: int64"
            ]
          },
          "execution_count": 18,
          "metadata": {},
          "output_type": "execute_result"
        }
      ],
      "source": [
        "predict = dtc_model.predict(x_train)\n",
        "df_predict = pd.DataFrame(predict)\n",
        "df_predict.value_counts()"
      ]
    },
    {
      "cell_type": "code",
      "execution_count": null,
      "id": "8744f537",
      "metadata": {
        "id": "8744f537",
        "outputId": "0ed34a50-24ed-4c70-e9a3-db39e225bc77"
      },
      "outputs": [
        {
          "name": "stdout",
          "output_type": "stream",
          "text": [
            "              precision    recall  f1-score   support\n",
            "\n",
            "           0       1.00      1.00      1.00      2170\n",
            "           1       1.00      1.00      1.00       390\n",
            "\n",
            "    accuracy                           1.00      2560\n",
            "   macro avg       1.00      1.00      1.00      2560\n",
            "weighted avg       1.00      1.00      1.00      2560\n",
            "\n"
          ]
        }
      ],
      "source": [
        "from sklearn.metrics import classification_report\n",
        "print(classification_report(y_train,df_predict))"
      ]
    },
    {
      "cell_type": "code",
      "execution_count": null,
      "id": "30b85c8e",
      "metadata": {
        "id": "30b85c8e",
        "outputId": "91e688de-c823-4fb2-dde2-a03fbe85265d"
      },
      "outputs": [
        {
          "data": {
            "text/plain": [
              "0    921\n",
              "1    177\n",
              "dtype: int64"
            ]
          },
          "execution_count": 20,
          "metadata": {},
          "output_type": "execute_result"
        }
      ],
      "source": [
        "predict = dtc_model.predict(x_test)\n",
        "df_predict_test = pd.DataFrame(predict)\n",
        "df_predict_test.value_counts()"
      ]
    },
    {
      "cell_type": "code",
      "execution_count": null,
      "id": "497e86ac",
      "metadata": {
        "id": "497e86ac",
        "outputId": "f83fe6c4-5099-4151-8413-bd1ddc9f65fd"
      },
      "outputs": [
        {
          "name": "stdout",
          "output_type": "stream",
          "text": [
            "              precision    recall  f1-score   support\n",
            "\n",
            "           0       0.87      0.86      0.86       931\n",
            "           1       0.24      0.26      0.25       167\n",
            "\n",
            "    accuracy                           0.77      1098\n",
            "   macro avg       0.55      0.56      0.56      1098\n",
            "weighted avg       0.77      0.77      0.77      1098\n",
            "\n"
          ]
        }
      ],
      "source": [
        "print(classification_report(y_test,df_predict_test))"
      ]
    },
    {
      "cell_type": "code",
      "execution_count": null,
      "id": "a8cff4d3",
      "metadata": {
        "id": "a8cff4d3"
      },
      "outputs": [],
      "source": [
        "#tune_parameter = [{'criterion':['gini','entropy'],'max_depth':range(2,20),'max_features':['log2','sqrt'],'min_samples_split':range(2,20),'min_samples_leaf':range(1,10),'max_leaf_nodes':range(1,10)}]"
      ]
    },
    {
      "cell_type": "code",
      "execution_count": null,
      "id": "7bfbbda6",
      "metadata": {
        "id": "7bfbbda6",
        "outputId": "973ecc6d-d599-4032-b98b-71309f5e10fd"
      },
      "outputs": [
        {
          "data": {
            "text/html": [
              "<style>#sk-container-id-2 {color: black;background-color: white;}#sk-container-id-2 pre{padding: 0;}#sk-container-id-2 div.sk-toggleable {background-color: white;}#sk-container-id-2 label.sk-toggleable__label {cursor: pointer;display: block;width: 100%;margin-bottom: 0;padding: 0.3em;box-sizing: border-box;text-align: center;}#sk-container-id-2 label.sk-toggleable__label-arrow:before {content: \"▸\";float: left;margin-right: 0.25em;color: #696969;}#sk-container-id-2 label.sk-toggleable__label-arrow:hover:before {color: black;}#sk-container-id-2 div.sk-estimator:hover label.sk-toggleable__label-arrow:before {color: black;}#sk-container-id-2 div.sk-toggleable__content {max-height: 0;max-width: 0;overflow: hidden;text-align: left;background-color: #f0f8ff;}#sk-container-id-2 div.sk-toggleable__content pre {margin: 0.2em;color: black;border-radius: 0.25em;background-color: #f0f8ff;}#sk-container-id-2 input.sk-toggleable__control:checked~div.sk-toggleable__content {max-height: 200px;max-width: 100%;overflow: auto;}#sk-container-id-2 input.sk-toggleable__control:checked~label.sk-toggleable__label-arrow:before {content: \"▾\";}#sk-container-id-2 div.sk-estimator input.sk-toggleable__control:checked~label.sk-toggleable__label {background-color: #d4ebff;}#sk-container-id-2 div.sk-label input.sk-toggleable__control:checked~label.sk-toggleable__label {background-color: #d4ebff;}#sk-container-id-2 input.sk-hidden--visually {border: 0;clip: rect(1px 1px 1px 1px);clip: rect(1px, 1px, 1px, 1px);height: 1px;margin: -1px;overflow: hidden;padding: 0;position: absolute;width: 1px;}#sk-container-id-2 div.sk-estimator {font-family: monospace;background-color: #f0f8ff;border: 1px dotted black;border-radius: 0.25em;box-sizing: border-box;margin-bottom: 0.5em;}#sk-container-id-2 div.sk-estimator:hover {background-color: #d4ebff;}#sk-container-id-2 div.sk-parallel-item::after {content: \"\";width: 100%;border-bottom: 1px solid gray;flex-grow: 1;}#sk-container-id-2 div.sk-label:hover label.sk-toggleable__label {background-color: #d4ebff;}#sk-container-id-2 div.sk-serial::before {content: \"\";position: absolute;border-left: 1px solid gray;box-sizing: border-box;top: 0;bottom: 0;left: 50%;z-index: 0;}#sk-container-id-2 div.sk-serial {display: flex;flex-direction: column;align-items: center;background-color: white;padding-right: 0.2em;padding-left: 0.2em;position: relative;}#sk-container-id-2 div.sk-item {position: relative;z-index: 1;}#sk-container-id-2 div.sk-parallel {display: flex;align-items: stretch;justify-content: center;background-color: white;position: relative;}#sk-container-id-2 div.sk-item::before, #sk-container-id-2 div.sk-parallel-item::before {content: \"\";position: absolute;border-left: 1px solid gray;box-sizing: border-box;top: 0;bottom: 0;left: 50%;z-index: -1;}#sk-container-id-2 div.sk-parallel-item {display: flex;flex-direction: column;z-index: 1;position: relative;background-color: white;}#sk-container-id-2 div.sk-parallel-item:first-child::after {align-self: flex-end;width: 50%;}#sk-container-id-2 div.sk-parallel-item:last-child::after {align-self: flex-start;width: 50%;}#sk-container-id-2 div.sk-parallel-item:only-child::after {width: 0;}#sk-container-id-2 div.sk-dashed-wrapped {border: 1px dashed gray;margin: 0 0.4em 0.5em 0.4em;box-sizing: border-box;padding-bottom: 0.4em;background-color: white;}#sk-container-id-2 div.sk-label label {font-family: monospace;font-weight: bold;display: inline-block;line-height: 1.2em;}#sk-container-id-2 div.sk-label-container {text-align: center;}#sk-container-id-2 div.sk-container {/* jupyter's `normalize.less` sets `[hidden] { display: none; }` but bootstrap.min.css set `[hidden] { display: none !important; }` so we also need the `!important` here to be able to override the default hidden behavior on the sphinx rendered scikit-learn.org. See: https://github.com/scikit-learn/scikit-learn/issues/21755 */display: inline-block !important;position: relative;}#sk-container-id-2 div.sk-text-repr-fallback {display: none;}</style><div id=\"sk-container-id-2\" class=\"sk-top-container\"><div class=\"sk-text-repr-fallback\"><pre>DecisionTreeClassifier(random_state=10)</pre><b>In a Jupyter environment, please rerun this cell to show the HTML representation or trust the notebook. <br />On GitHub, the HTML representation is unable to render, please try loading this page with nbviewer.org.</b></div><div class=\"sk-container\" hidden><div class=\"sk-item\"><div class=\"sk-estimator sk-toggleable\"><input class=\"sk-toggleable__control sk-hidden--visually\" id=\"sk-estimator-id-2\" type=\"checkbox\" checked><label for=\"sk-estimator-id-2\" class=\"sk-toggleable__label sk-toggleable__label-arrow\">DecisionTreeClassifier</label><div class=\"sk-toggleable__content\"><pre>DecisionTreeClassifier(random_state=10)</pre></div></div></div></div></div>"
            ],
            "text/plain": [
              "DecisionTreeClassifier(random_state=10)"
            ]
          },
          "execution_count": 23,
          "metadata": {},
          "output_type": "execute_result"
        }
      ],
      "source": [
        "dtc2 = DecisionTreeClassifier(random_state = 10)\n",
        "dtc2"
      ]
    },
    {
      "cell_type": "code",
      "execution_count": null,
      "id": "b22091b9",
      "metadata": {
        "id": "b22091b9"
      },
      "outputs": [],
      "source": [
        "#tree_grid = GridSearchCV(estimator = dtc2,param_grid = tune_parameter,cv = 5)\n",
        "#tree_grid_model = tree_grid.fit(x_train,y_train)\n",
        "#print(tree_grid_model.best_params_)"
      ]
    },
    {
      "cell_type": "code",
      "execution_count": null,
      "id": "0dc87fae",
      "metadata": {
        "id": "0dc87fae"
      },
      "outputs": [],
      "source": [
        "from sklearn.model_selection import GridSearchCV"
      ]
    },
    {
      "cell_type": "markdown",
      "id": "9659de14",
      "metadata": {
        "id": "9659de14"
      },
      "source": [
        "## predict train data using hyper parameters tuning"
      ]
    },
    {
      "cell_type": "code",
      "execution_count": null,
      "id": "ca351acc",
      "metadata": {
        "id": "ca351acc"
      },
      "outputs": [],
      "source": [
        "dt3 = DecisionTreeClassifier(random_state = 10,criterion= 'entropy',max_depth = 5,max_features = 'sqrt',min_samples_split = 2,min_samples_leaf = 3,max_leaf_nodes = 8)"
      ]
    },
    {
      "cell_type": "code",
      "execution_count": null,
      "id": "913a7d57",
      "metadata": {
        "id": "913a7d57"
      },
      "outputs": [],
      "source": [
        "dt3_model = dt3.fit(x_train,y_train)"
      ]
    },
    {
      "cell_type": "code",
      "execution_count": null,
      "id": "e8a6ce41",
      "metadata": {
        "id": "e8a6ce41",
        "outputId": "244906e0-0062-4930-93f9-1f69470411fe"
      },
      "outputs": [
        {
          "data": {
            "text/plain": [
              "0    2554\n",
              "1       6\n",
              "dtype: int64"
            ]
          },
          "execution_count": 28,
          "metadata": {},
          "output_type": "execute_result"
        }
      ],
      "source": [
        "predict = dt3_model.predict(x_train)\n",
        "dt3_predict_df = pd.DataFrame(predict)\n",
        "dt3_predict_df.value_counts()"
      ]
    },
    {
      "cell_type": "code",
      "execution_count": null,
      "id": "6a5b391e",
      "metadata": {
        "id": "6a5b391e",
        "outputId": "b8c4df5d-36f9-44c2-d21f-1fb67a8e7ef6"
      },
      "outputs": [
        {
          "name": "stdout",
          "output_type": "stream",
          "text": [
            "              precision    recall  f1-score   support\n",
            "\n",
            "           0       0.85      1.00      0.92      2170\n",
            "           1       1.00      0.02      0.03       390\n",
            "\n",
            "    accuracy                           0.85      2560\n",
            "   macro avg       0.92      0.51      0.47      2560\n",
            "weighted avg       0.87      0.85      0.78      2560\n",
            "\n"
          ]
        }
      ],
      "source": [
        "print(classification_report(y_train,dt3_predict_df))"
      ]
    },
    {
      "cell_type": "code",
      "execution_count": null,
      "id": "5b73bc19",
      "metadata": {
        "id": "5b73bc19"
      },
      "outputs": [],
      "source": [
        "dt3_model_test = dt3.fit(x_test,y_test)"
      ]
    },
    {
      "cell_type": "code",
      "execution_count": null,
      "id": "1c7c39c6",
      "metadata": {
        "id": "1c7c39c6",
        "outputId": "a0dacca8-5d95-411e-ca8e-06ddc4f88a18"
      },
      "outputs": [
        {
          "data": {
            "text/plain": [
              "0    1074\n",
              "1      24\n",
              "dtype: int64"
            ]
          },
          "execution_count": 31,
          "metadata": {},
          "output_type": "execute_result"
        }
      ],
      "source": [
        "predict_test = dt3_model_test.predict(x_test)\n",
        "dt3_predict_df_test = pd.DataFrame(predict_test)\n",
        "dt3_predict_df_test.value_counts()"
      ]
    },
    {
      "cell_type": "code",
      "execution_count": null,
      "id": "502f2db7",
      "metadata": {
        "id": "502f2db7",
        "outputId": "056f652f-b9b9-4cc4-b35e-7b337aa1d8ef"
      },
      "outputs": [
        {
          "name": "stdout",
          "output_type": "stream",
          "text": [
            "              precision    recall  f1-score   support\n",
            "\n",
            "           0       0.86      0.99      0.92       931\n",
            "           1       0.71      0.10      0.18       167\n",
            "\n",
            "    accuracy                           0.86      1098\n",
            "   macro avg       0.78      0.55      0.55      1098\n",
            "weighted avg       0.84      0.86      0.81      1098\n",
            "\n"
          ]
        }
      ],
      "source": [
        "print(classification_report(y_test,dt3_predict_df_test))"
      ]
    },
    {
      "cell_type": "code",
      "execution_count": null,
      "id": "2e2bacdd",
      "metadata": {
        "id": "2e2bacdd",
        "outputId": "fcb2f19f-b716-4097-8cb1-8f1eddbe78ac"
      },
      "outputs": [
        {
          "data": {
            "text/plain": [
              "'tree_grid = GridSearchCV(estimator = dt3,param_grid = tune_parameter1,cv = 5)\\ntree_grid_model = tree_grid.fit(x_train,y_train)\\nprint(tree_grid_model.best_params_)'"
            ]
          },
          "execution_count": 33,
          "metadata": {},
          "output_type": "execute_result"
        }
      ],
      "source": [
        "'''tree_grid = GridSearchCV(estimator = dt3,param_grid = tune_parameter1,cv = 5)\n",
        "tree_grid_model = tree_grid.fit(x_train,y_train)\n",
        "print(tree_grid_model.best_params_)'''"
      ]
    },
    {
      "cell_type": "code",
      "execution_count": null,
      "id": "268e9b22",
      "metadata": {
        "id": "268e9b22",
        "outputId": "1ce41803-93ee-4015-ada3-cbb38c620f69"
      },
      "outputs": [
        {
          "data": {
            "text/plain": [
              "'tree_grid = GridSearchCV(estimator = dtc2,param_grid = tune_parameter,cv = 5)\\ntree_grid_model = tree_grid.fit(x_train,y_train)\\nprint(tree_grid_model.best_params_)'"
            ]
          },
          "execution_count": 34,
          "metadata": {},
          "output_type": "execute_result"
        }
      ],
      "source": [
        "'''tree_grid = GridSearchCV(estimator = dtc2,param_grid = tune_parameter,cv = 5)\n",
        "tree_grid_model = tree_grid.fit(x_train,y_train)\n",
        "print(tree_grid_model.best_params_)'''"
      ]
    },
    {
      "cell_type": "markdown",
      "id": "a27afe24",
      "metadata": {
        "id": "a27afe24"
      },
      "source": [
        "# Random forest"
      ]
    },
    {
      "cell_type": "code",
      "execution_count": null,
      "id": "c4bca181",
      "metadata": {
        "id": "c4bca181"
      },
      "outputs": [],
      "source": [
        "from sklearn.ensemble import RandomForestClassifier"
      ]
    },
    {
      "cell_type": "code",
      "execution_count": null,
      "id": "4cb1dcfb",
      "metadata": {
        "id": "4cb1dcfb",
        "outputId": "b36f63c6-a2b7-4133-be8e-497ffaadd94e"
      },
      "outputs": [
        {
          "data": {
            "text/html": [
              "<style>#sk-container-id-3 {color: black;background-color: white;}#sk-container-id-3 pre{padding: 0;}#sk-container-id-3 div.sk-toggleable {background-color: white;}#sk-container-id-3 label.sk-toggleable__label {cursor: pointer;display: block;width: 100%;margin-bottom: 0;padding: 0.3em;box-sizing: border-box;text-align: center;}#sk-container-id-3 label.sk-toggleable__label-arrow:before {content: \"▸\";float: left;margin-right: 0.25em;color: #696969;}#sk-container-id-3 label.sk-toggleable__label-arrow:hover:before {color: black;}#sk-container-id-3 div.sk-estimator:hover label.sk-toggleable__label-arrow:before {color: black;}#sk-container-id-3 div.sk-toggleable__content {max-height: 0;max-width: 0;overflow: hidden;text-align: left;background-color: #f0f8ff;}#sk-container-id-3 div.sk-toggleable__content pre {margin: 0.2em;color: black;border-radius: 0.25em;background-color: #f0f8ff;}#sk-container-id-3 input.sk-toggleable__control:checked~div.sk-toggleable__content {max-height: 200px;max-width: 100%;overflow: auto;}#sk-container-id-3 input.sk-toggleable__control:checked~label.sk-toggleable__label-arrow:before {content: \"▾\";}#sk-container-id-3 div.sk-estimator input.sk-toggleable__control:checked~label.sk-toggleable__label {background-color: #d4ebff;}#sk-container-id-3 div.sk-label input.sk-toggleable__control:checked~label.sk-toggleable__label {background-color: #d4ebff;}#sk-container-id-3 input.sk-hidden--visually {border: 0;clip: rect(1px 1px 1px 1px);clip: rect(1px, 1px, 1px, 1px);height: 1px;margin: -1px;overflow: hidden;padding: 0;position: absolute;width: 1px;}#sk-container-id-3 div.sk-estimator {font-family: monospace;background-color: #f0f8ff;border: 1px dotted black;border-radius: 0.25em;box-sizing: border-box;margin-bottom: 0.5em;}#sk-container-id-3 div.sk-estimator:hover {background-color: #d4ebff;}#sk-container-id-3 div.sk-parallel-item::after {content: \"\";width: 100%;border-bottom: 1px solid gray;flex-grow: 1;}#sk-container-id-3 div.sk-label:hover label.sk-toggleable__label {background-color: #d4ebff;}#sk-container-id-3 div.sk-serial::before {content: \"\";position: absolute;border-left: 1px solid gray;box-sizing: border-box;top: 0;bottom: 0;left: 50%;z-index: 0;}#sk-container-id-3 div.sk-serial {display: flex;flex-direction: column;align-items: center;background-color: white;padding-right: 0.2em;padding-left: 0.2em;position: relative;}#sk-container-id-3 div.sk-item {position: relative;z-index: 1;}#sk-container-id-3 div.sk-parallel {display: flex;align-items: stretch;justify-content: center;background-color: white;position: relative;}#sk-container-id-3 div.sk-item::before, #sk-container-id-3 div.sk-parallel-item::before {content: \"\";position: absolute;border-left: 1px solid gray;box-sizing: border-box;top: 0;bottom: 0;left: 50%;z-index: -1;}#sk-container-id-3 div.sk-parallel-item {display: flex;flex-direction: column;z-index: 1;position: relative;background-color: white;}#sk-container-id-3 div.sk-parallel-item:first-child::after {align-self: flex-end;width: 50%;}#sk-container-id-3 div.sk-parallel-item:last-child::after {align-self: flex-start;width: 50%;}#sk-container-id-3 div.sk-parallel-item:only-child::after {width: 0;}#sk-container-id-3 div.sk-dashed-wrapped {border: 1px dashed gray;margin: 0 0.4em 0.5em 0.4em;box-sizing: border-box;padding-bottom: 0.4em;background-color: white;}#sk-container-id-3 div.sk-label label {font-family: monospace;font-weight: bold;display: inline-block;line-height: 1.2em;}#sk-container-id-3 div.sk-label-container {text-align: center;}#sk-container-id-3 div.sk-container {/* jupyter's `normalize.less` sets `[hidden] { display: none; }` but bootstrap.min.css set `[hidden] { display: none !important; }` so we also need the `!important` here to be able to override the default hidden behavior on the sphinx rendered scikit-learn.org. See: https://github.com/scikit-learn/scikit-learn/issues/21755 */display: inline-block !important;position: relative;}#sk-container-id-3 div.sk-text-repr-fallback {display: none;}</style><div id=\"sk-container-id-3\" class=\"sk-top-container\"><div class=\"sk-text-repr-fallback\"><pre>RandomForestClassifier(n_estimators=10, random_state=10)</pre><b>In a Jupyter environment, please rerun this cell to show the HTML representation or trust the notebook. <br />On GitHub, the HTML representation is unable to render, please try loading this page with nbviewer.org.</b></div><div class=\"sk-container\" hidden><div class=\"sk-item\"><div class=\"sk-estimator sk-toggleable\"><input class=\"sk-toggleable__control sk-hidden--visually\" id=\"sk-estimator-id-3\" type=\"checkbox\" checked><label for=\"sk-estimator-id-3\" class=\"sk-toggleable__label sk-toggleable__label-arrow\">RandomForestClassifier</label><div class=\"sk-toggleable__content\"><pre>RandomForestClassifier(n_estimators=10, random_state=10)</pre></div></div></div></div></div>"
            ],
            "text/plain": [
              "RandomForestClassifier(n_estimators=10, random_state=10)"
            ]
          },
          "execution_count": 36,
          "metadata": {},
          "output_type": "execute_result"
        }
      ],
      "source": [
        "rfc = RandomForestClassifier(n_estimators = 10,random_state = 10) # n_estimators = no. of trees\n",
        "rfc_model = rfc.fit(x_train,y_train)\n",
        "rfc_model"
      ]
    },
    {
      "cell_type": "code",
      "execution_count": null,
      "id": "0463a506",
      "metadata": {
        "id": "0463a506",
        "outputId": "1894f838-416d-4adb-a512-993bc5130bf3"
      },
      "outputs": [
        {
          "data": {
            "text/plain": [
              "0    86.484375\n",
              "1    13.515625\n",
              "dtype: float64"
            ]
          },
          "execution_count": 37,
          "metadata": {},
          "output_type": "execute_result"
        }
      ],
      "source": [
        "predict = rfc_model.predict(x_train)\n",
        "df_predict_rf = pd.DataFrame(predict)\n",
        "df_predict_rf.value_counts()*100/len(df_predict_rf)"
      ]
    },
    {
      "cell_type": "code",
      "execution_count": null,
      "id": "323f2b6b",
      "metadata": {
        "id": "323f2b6b",
        "outputId": "ee6694ea-ace6-411b-911f-3a019651ab0b"
      },
      "outputs": [
        {
          "name": "stdout",
          "output_type": "stream",
          "text": [
            "              precision    recall  f1-score   support\n",
            "\n",
            "           0       0.98      1.00      0.99      2170\n",
            "           1       1.00      0.88      0.94       390\n",
            "\n",
            "    accuracy                           0.98      2560\n",
            "   macro avg       0.99      0.94      0.96      2560\n",
            "weighted avg       0.98      0.98      0.98      2560\n",
            "\n"
          ]
        }
      ],
      "source": [
        "print(classification_report(y_train,df_predict_rf))"
      ]
    },
    {
      "cell_type": "code",
      "execution_count": null,
      "id": "f9c326b0",
      "metadata": {
        "id": "f9c326b0",
        "outputId": "d592de24-28c3-4bd8-829b-f170fd4c1bc1"
      },
      "outputs": [
        {
          "data": {
            "text/plain": [
              "0    96.174863\n",
              "1     3.825137\n",
              "dtype: float64"
            ]
          },
          "execution_count": 39,
          "metadata": {},
          "output_type": "execute_result"
        }
      ],
      "source": [
        "predict_test = rfc_model.predict(x_test)\n",
        "df_predict_rf_test = pd.DataFrame(predict_test)\n",
        "df_predict_rf_test.value_counts()*100/len(df_predict_rf_test)"
      ]
    },
    {
      "cell_type": "code",
      "execution_count": null,
      "id": "590c044e",
      "metadata": {
        "id": "590c044e",
        "outputId": "594c7a59-1867-442f-e76d-6ced156d51c1"
      },
      "outputs": [
        {
          "name": "stdout",
          "output_type": "stream",
          "text": [
            "              precision    recall  f1-score   support\n",
            "\n",
            "           0       0.86      0.97      0.91       931\n",
            "           1       0.36      0.09      0.14       167\n",
            "\n",
            "    accuracy                           0.84      1098\n",
            "   macro avg       0.61      0.53      0.53      1098\n",
            "weighted avg       0.78      0.84      0.79      1098\n",
            "\n"
          ]
        }
      ],
      "source": [
        "print(classification_report(y_test,df_predict_rf_test)) # accuracy,precision,recall = indicators "
      ]
    },
    {
      "cell_type": "markdown",
      "id": "c15099fe",
      "metadata": {
        "id": "c15099fe"
      },
      "source": [
        "## hyper parametres in random forest\n",
        "### 1. Criterion  2. max_depth 3. max_features 4. min_sample_split  5. min_sample_node 6. n_estimators"
      ]
    },
    {
      "cell_type": "code",
      "execution_count": null,
      "id": "63e84213",
      "metadata": {
        "id": "63e84213"
      },
      "outputs": [],
      "source": [
        "tune_parameter_rfc = [{'criterion':['gini','entropy'],'n_estimators':[10,20,30,50,70],'max_depth':[10,20,30],'max_features':['log2','sqrt'],'min_samples_split':[2,5,8,11],'min_samples_leaf':[1,5,9],'max_leaf_nodes':[2,5,8,11]}]"
      ]
    },
    {
      "cell_type": "code",
      "execution_count": null,
      "id": "64e199a1",
      "metadata": {
        "id": "64e199a1",
        "outputId": "2de537c8-b24c-4990-ab39-a18c5091ee5d"
      },
      "outputs": [
        {
          "data": {
            "text/plain": [
              "[{'criterion': ['gini', 'entropy'],\n",
              "  'n_estimators': [10, 20, 30, 50, 70],\n",
              "  'max_depth': [10, 20, 30],\n",
              "  'max_features': ['log2', 'sqrt'],\n",
              "  'min_samples_split': [2, 5, 8, 11],\n",
              "  'min_samples_leaf': [1, 5, 9],\n",
              "  'max_leaf_nodes': [2, 5, 8, 11]}]"
            ]
          },
          "execution_count": 42,
          "metadata": {},
          "output_type": "execute_result"
        }
      ],
      "source": [
        "tune_parameter_rfc"
      ]
    },
    {
      "cell_type": "code",
      "execution_count": null,
      "id": "995239a4",
      "metadata": {
        "id": "995239a4"
      },
      "outputs": [],
      "source": [
        "rf = RandomForestClassifier(random_state = 10)\n",
        "rf_grid = GridSearchCV(estimator = rf,param_grid = tune_parameter_rfc)\n",
        "rf_model = rf_grid.fit(x_train,y_train)"
      ]
    },
    {
      "cell_type": "code",
      "execution_count": null,
      "id": "53a40bc4",
      "metadata": {
        "id": "53a40bc4",
        "outputId": "260a91ff-6601-4d6c-beed-4aaa08cc41c0"
      },
      "outputs": [
        {
          "name": "stdout",
          "output_type": "stream",
          "text": [
            "{'criterion': 'gini', 'max_depth': 10, 'max_features': 'log2', 'max_leaf_nodes': 8, 'min_samples_leaf': 9, 'min_samples_split': 2, 'n_estimators': 10}\n"
          ]
        }
      ],
      "source": [
        "print(rf_model.best_params_)"
      ]
    },
    {
      "cell_type": "markdown",
      "id": "97ca0adc",
      "metadata": {
        "id": "97ca0adc"
      },
      "source": [
        "# prepare final model by using best params"
      ]
    },
    {
      "cell_type": "code",
      "execution_count": null,
      "id": "fe288d55",
      "metadata": {
        "id": "fe288d55"
      },
      "outputs": [],
      "source": [
        "rf1 = RandomForestClassifier(random_state = 10,criterion = 'gini',max_depth = 10,max_features = 'log2',max_leaf_nodes = 8,min_samples_leaf = 9,min_samples_split = 2,n_estimators = 10)"
      ]
    },
    {
      "cell_type": "code",
      "execution_count": null,
      "id": "bcfef5a8",
      "metadata": {
        "id": "bcfef5a8",
        "outputId": "79fbe097-de52-4fdc-8f2f-8153ab990584"
      },
      "outputs": [
        {
          "data": {
            "text/plain": [
              "0    99.765625\n",
              "1     0.234375\n",
              "dtype: float64"
            ]
          },
          "execution_count": 47,
          "metadata": {},
          "output_type": "execute_result"
        }
      ],
      "source": [
        "rf1_model = rf1.fit(x_train,y_train)\n",
        "predict = rf1_model.predict(x_train)\n",
        "df_predict_rf1 = pd.DataFrame(predict)\n",
        "df_predict_rf1.value_counts()*100/len(df_predict_rf1)"
      ]
    },
    {
      "cell_type": "code",
      "execution_count": null,
      "id": "b7b3f069",
      "metadata": {
        "id": "b7b3f069",
        "outputId": "d28f2484-cf53-43c3-d1cd-1ad43caa2512"
      },
      "outputs": [
        {
          "name": "stdout",
          "output_type": "stream",
          "text": [
            "              precision    recall  f1-score   support\n",
            "\n",
            "           0       0.85      1.00      0.92      2170\n",
            "           1       0.83      0.01      0.03       390\n",
            "\n",
            "    accuracy                           0.85      2560\n",
            "   macro avg       0.84      0.51      0.47      2560\n",
            "weighted avg       0.85      0.85      0.78      2560\n",
            "\n"
          ]
        }
      ],
      "source": [
        "print(classification_report(y_train,df_predict_rf1))"
      ]
    },
    {
      "cell_type": "code",
      "execution_count": null,
      "id": "d9381b1f",
      "metadata": {
        "id": "d9381b1f",
        "outputId": "de863bb2-0705-46f5-828b-bba13a94f9a4"
      },
      "outputs": [
        {
          "data": {
            "text/plain": [
              "0    100.0\n",
              "dtype: float64"
            ]
          },
          "execution_count": 49,
          "metadata": {},
          "output_type": "execute_result"
        }
      ],
      "source": [
        "predict_test = rf1_model.predict(x_test)\n",
        "df_predict_rf1_test = pd.DataFrame(predict_test)\n",
        "df_predict_rf1_test.value_counts()*100/len(df_predict_rf1_test)"
      ]
    },
    {
      "cell_type": "code",
      "execution_count": null,
      "id": "3326e555",
      "metadata": {
        "id": "3326e555",
        "outputId": "fcf647e6-dc0e-4423-bdfc-06c2d7def99c"
      },
      "outputs": [
        {
          "name": "stdout",
          "output_type": "stream",
          "text": [
            "              precision    recall  f1-score   support\n",
            "\n",
            "           0       0.85      1.00      0.92       931\n",
            "           1       0.00      0.00      0.00       167\n",
            "\n",
            "    accuracy                           0.85      1098\n",
            "   macro avg       0.42      0.50      0.46      1098\n",
            "weighted avg       0.72      0.85      0.78      1098\n",
            "\n"
          ]
        },
        {
          "name": "stderr",
          "output_type": "stream",
          "text": [
            "C:\\Users\\Dell\\AppData\\Local\\Programs\\Python\\Python310\\lib\\site-packages\\sklearn\\metrics\\_classification.py:1327: UndefinedMetricWarning: Precision and F-score are ill-defined and being set to 0.0 in labels with no predicted samples. Use `zero_division` parameter to control this behavior.\n",
            "  _warn_prf(average, modifier, msg_start, len(result))\n",
            "C:\\Users\\Dell\\AppData\\Local\\Programs\\Python\\Python310\\lib\\site-packages\\sklearn\\metrics\\_classification.py:1327: UndefinedMetricWarning: Precision and F-score are ill-defined and being set to 0.0 in labels with no predicted samples. Use `zero_division` parameter to control this behavior.\n",
            "  _warn_prf(average, modifier, msg_start, len(result))\n",
            "C:\\Users\\Dell\\AppData\\Local\\Programs\\Python\\Python310\\lib\\site-packages\\sklearn\\metrics\\_classification.py:1327: UndefinedMetricWarning: Precision and F-score are ill-defined and being set to 0.0 in labels with no predicted samples. Use `zero_division` parameter to control this behavior.\n",
            "  _warn_prf(average, modifier, msg_start, len(result))\n"
          ]
        }
      ],
      "source": [
        "print(classification_report(y_test,df_predict_rf1_test))"
      ]
    }
  ],
  "metadata": {
    "kernelspec": {
      "display_name": "Python 3 (ipykernel)",
      "language": "python",
      "name": "python3"
    },
    "language_info": {
      "codemirror_mode": {
        "name": "ipython",
        "version": 3
      },
      "file_extension": ".py",
      "mimetype": "text/x-python",
      "name": "python",
      "nbconvert_exporter": "python",
      "pygments_lexer": "ipython3",
      "version": "3.10.0"
    },
    "colab": {
      "provenance": [],
      "include_colab_link": true
    }
  },
  "nbformat": 4,
  "nbformat_minor": 5
}